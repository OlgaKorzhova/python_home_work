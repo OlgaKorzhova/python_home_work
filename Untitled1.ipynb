{
  "nbformat": 4,
  "nbformat_minor": 0,
  "metadata": {
    "colab": {
      "provenance": []
    },
    "kernelspec": {
      "name": "python3",
      "display_name": "Python 3"
    },
    "language_info": {
      "name": "python"
    }
  },
  "cells": [
    {
      "cell_type": "code",
      "execution_count": 14,
      "metadata": {
        "colab": {
          "base_uri": "https://localhost:8080/"
        },
        "id": "gQhdrsf0FiGm",
        "outputId": "a773612b-d4de-4500-c88f-8b573a7782f2"
      },
      "outputs": [
        {
          "output_type": "stream",
          "name": "stdout",
          "text": [
            "   whoAmI_human  whoAmI_robot\n",
            "0           0.0           1.0\n",
            "1           0.0           1.0\n",
            "2           0.0           1.0\n",
            "3           0.0           1.0\n",
            "4           1.0           0.0\n"
          ]
        }
      ],
      "source": [
        "from sklearn.preprocessing import OneHotEncoder\n",
        "import pandas as pd\n",
        "import random\n",
        "\n",
        "lst = ['robot'] * 10\n",
        "lst += ['human'] * 10\n",
        "random.shuffle(lst)\n",
        "data = pd.DataFrame({'whoAmI': lst})\n",
        "\n",
        "enc = OneHotEncoder()\n",
        "enc.fit(data[['whoAmI']])\n",
        "\n",
        "one_hot = enc.transform(data[['whoAmI']])\n",
        "cols = enc.get_feature_names_out(['whoAmI'])\n",
        "\n",
        "one_hot_df = pd.DataFrame(one_hot.toarray(), columns=cols)\n",
        "print(one_hot_df.head())"
      ]
    },
    {
      "cell_type": "code",
      "source": [],
      "metadata": {
        "id": "Ircp20R7Guk8"
      },
      "execution_count": null,
      "outputs": []
    }
  ]
}